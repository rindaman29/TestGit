{
  "nbformat": 4,
  "nbformat_minor": 0,
  "metadata": {
    "colab": {
      "name": "Udacity: Intro to Tensorflow.ipynb",
      "version": "0.3.2",
      "provenance": [],
      "include_colab_link": true
    },
    "kernelspec": {
      "name": "python3",
      "display_name": "Python 3"
    }
  },
  "cells": [
    {
      "cell_type": "markdown",
      "metadata": {
        "id": "view-in-github",
        "colab_type": "text"
      },
      "source": [
        "<a href=\"https://colab.research.google.com/github/rindaman29/TestGit/blob/master/Udacity_Intro_to_Tensorflow.ipynb\" target=\"_parent\"><img src=\"https://colab.research.google.com/assets/colab-badge.svg\" alt=\"Open In Colab\"/></a>"
      ]
    },
    {
      "cell_type": "code",
      "metadata": {
        "id": "sISbkbU04DFH",
        "colab_type": "code",
        "outputId": "537cdc79-9306-4c5f-d51c-f1ef0ee93dbf",
        "colab": {
          "base_uri": "https://localhost:8080/",
          "height": 34
        }
      },
      "source": [
        "print(\"Hello World\")"
      ],
      "execution_count": 0,
      "outputs": [
        {
          "output_type": "stream",
          "text": [
            "Hello World\n"
          ],
          "name": "stdout"
        }
      ]
    },
    {
      "cell_type": "code",
      "metadata": {
        "id": "r_EgE8qk4O_B",
        "colab_type": "code",
        "outputId": "5b0ef2cd-0cb1-497d-c53d-3ef9336d1a21",
        "colab": {
          "base_uri": "https://localhost:8080/",
          "height": 221
        }
      },
      "source": [
        "def HelloWorldxy (x,y):\n",
        "  if (x < 10):\n",
        "    print(\"Hello World, x was < 10\")\n",
        "  elif (x < 20):\n",
        "    print(\"Hello World, x was >= 10 but < 20\")\n",
        "  else:\n",
        "    print(\"Hello World, x was >= 20\")\n",
        "  return x+y\n",
        "    \n",
        "for i in range(8,25,5):\n",
        "  print(\"--- Now running with i: {}\".format(i))\n",
        "  r = HelloWorldxy(i,i)\n",
        "  print(\"Result from Hello World: {}\".format(i,r))\n",
        "  "
      ],
      "execution_count": 0,
      "outputs": [
        {
          "output_type": "stream",
          "text": [
            "--- Now running with i: 8\n",
            "Hello World, x was < 10\n",
            "Result from Hello World: 8\n",
            "--- Now running with i: 13\n",
            "Hello World, x was >= 10 but < 20\n",
            "Result from Hello World: 13\n",
            "--- Now running with i: 18\n",
            "Hello World, x was >= 10 but < 20\n",
            "Result from Hello World: 18\n",
            "--- Now running with i: 23\n",
            "Hello World, x was >= 20\n",
            "Result from Hello World: 23\n"
          ],
          "name": "stdout"
        }
      ]
    },
    {
      "cell_type": "code",
      "metadata": {
        "id": "zaPUqIE0Cvn7",
        "colab_type": "code",
        "outputId": "c6ad695c-f833-4cf3-ac54-9d7723fad2f9",
        "colab": {
          "base_uri": "https://localhost:8080/",
          "height": 51
        }
      },
      "source": [
        "print(HelloWorldxy(1,2))"
      ],
      "execution_count": 0,
      "outputs": [
        {
          "output_type": "stream",
          "text": [
            "Hello World, x was < 10\n",
            "3\n"
          ],
          "name": "stdout"
        }
      ]
    },
    {
      "cell_type": "code",
      "metadata": {
        "id": "kRqTTgeCS5w8",
        "colab_type": "code",
        "outputId": "8371cb22-a91f-43d0-adf1-bd4ccb320ce2",
        "colab": {
          "base_uri": "https://localhost:8080/",
          "height": 170
        }
      },
      "source": [
        "print(\"Iterate over items. 'range(2)' is like a list[0,1].\")\n",
        "for i in range(2):\n",
        "  print(i)\n",
        "\n",
        "print(\"Iterate over an actual list.\")\n",
        "for i in [0,1]:\n",
        "  print(i)\n",
        "\n",
        "print(\"While Works\")\n",
        "i = 0\n",
        "while i < 2:\n",
        "  print(i)\n",
        "  i += 1"
      ],
      "execution_count": 0,
      "outputs": [
        {
          "output_type": "stream",
          "text": [
            "Iterate over items. 'range(2)' is like a list[0,1].\n",
            "0\n",
            "1\n",
            "Iterate over an actual list.\n",
            "0\n",
            "1\n",
            "While Works\n",
            "0\n",
            "1\n"
          ],
          "name": "stdout"
        }
      ]
    },
    {
      "cell_type": "code",
      "metadata": {
        "id": "v77DxkTwTCyz",
        "colab_type": "code",
        "outputId": "ebc6ad9c-e0e6-4262-b04f-b7a0f4029741",
        "colab": {
          "base_uri": "https://localhost:8080/",
          "height": 51
        }
      },
      "source": [
        "print(\"Python supports standard key like continue and break\")\n",
        "while True:\n",
        "  print(\"Entered While\")\n",
        "  break\n",
        "  "
      ],
      "execution_count": 0,
      "outputs": [
        {
          "output_type": "stream",
          "text": [
            "Python supports standard key like continue and break\n",
            "Entered While\n"
          ],
          "name": "stdout"
        }
      ]
    },
    {
      "cell_type": "markdown",
      "metadata": {
        "id": "JChY_S58XvU4",
        "colab_type": "text"
      },
      "source": [
        "**Numpy and Lists**\n",
        "Python has lists built into the language. However, we will use a library called numpy for this. Numpy gives you lot's of support functions that are useful when doing  Machine Learning"
      ]
    },
    {
      "cell_type": "code",
      "metadata": {
        "id": "uHQwptCIYlyg",
        "colab_type": "code",
        "outputId": "89255925-9e45-4a57-ee37-8c89ca281b9f",
        "colab": {
          "base_uri": "https://localhost:8080/",
          "height": 187
        }
      },
      "source": [
        "import numpy as np  #Make numpy available using np\n",
        "\n",
        "#Creating an numpy array and append an element\n",
        "a = np.array([\"Hello\", \"World\"])\n",
        "a = np.append(a,\"!\")\n",
        "print(\"Current array: {}\".format(a))\n",
        "print(\"Printing each element\")\n",
        "for i in a:\n",
        "  print(i)\n",
        "  \n",
        "print(\"\\nPrinting each element and their index\")\n",
        "for i,e in enumerate(a):\n",
        "  print(\"Index: {}, was: {}\".format(i,e))"
      ],
      "execution_count": 0,
      "outputs": [
        {
          "output_type": "stream",
          "text": [
            "Current array: ['Hello' 'World' '!']\n",
            "Printing each element\n",
            "Hello\n",
            "World\n",
            "!\n",
            "\n",
            "Printing each element and their index\n",
            "Index: 0, was: Hello\n",
            "Index: 1, was: World\n",
            "Index: 2, was: !\n"
          ],
          "name": "stdout"
        }
      ]
    },
    {
      "cell_type": "code",
      "metadata": {
        "id": "L5jSp4rQVA7A",
        "colab_type": "code",
        "colab": {
          "base_uri": "https://localhost:8080/",
          "height": 102
        },
        "outputId": "4d1960a4-3a57-4d5b-a4ed-1ca72fe01bde"
      },
      "source": [
        "print(\"\\nshowing some basic math on arrays\")\n",
        "b = np.array([0,1,4,3,2])\n",
        "print(\"Max: {}\".format(np.max(b)))\n",
        "print(\"Average: {}\".format(np.average(b)))\n",
        "print(\"Max Index: {}\".format(np.argmax(b)))"
      ],
      "execution_count": 28,
      "outputs": [
        {
          "output_type": "stream",
          "text": [
            "\n",
            "showing some basic math on arrays\n",
            "Max: 4\n",
            "Average: 2.0\n",
            "Max Index: 2\n"
          ],
          "name": "stdout"
        }
      ]
    }
  ]
}